{
 "cells": [
  {
   "cell_type": "code",
   "execution_count": 4,
   "metadata": {},
   "outputs": [],
   "source": [
    "import numpy as np\n",
    "import matplotlib.pyplot as plt\n",
    "import matplotlib.cm as cmaps\n",
    "import pandas as pd\n",
    "import subprocess\n",
    "%matplotlib inline"
   ]
  },
  {
   "cell_type": "code",
   "execution_count": 5,
   "metadata": {},
   "outputs": [],
   "source": [
    "SAVEPATH = \"graphs/\""
   ]
  },
  {
   "cell_type": "code",
   "execution_count": 39,
   "metadata": {},
   "outputs": [
    {
     "data": {
      "image/png": "[encoded data removed]",
      "text/plain": [
       "<Figure size 720x288 with 2 Axes>"
      ]
     },
     "metadata": {
      "needs_background": "light"
     },
     "output_type": "display_data"
    }
   ],
   "source": [
    "path = \"./../data/pd/\"\n",
    "name = \"erdos-renyi_kuramoto\"\n",
    "\n",
    "nparts = 9\n",
    "\n",
    "\n",
    "data = np.empty((0,3))\n",
    "for part in range(nparts):\n",
    "    datafile = np.loadtxt(path + name + \"_part{0}\".format(part))\n",
    "    data = np.append(data, datafile, axis=0)\n",
    "del datafile\n",
    "\n",
    "fig, axes = plt.subplots(ncols=2, figsize=(10,4))\n",
    "axes[0].plot(data[:,0], data[:,1], color=\"black\", marker=\"o\", ls=\":\")\n",
    "axes[1].plot(data[:,0], data[:,2], color=\"black\", marker=\"o\", ls=\":\")\n",
    "\n",
    "axes[0].set_xlabel(r'$J$', fontsize=14, usetex=True)\n",
    "axes[0].set_ylabel(r'$R$', fontsize=14, usetex=True)\n",
    "\n",
    "axes[1].set_ylabel(r'$\\sigma^2(R)$', fontsize=14, usetex=True)\n",
    "axes[1].set_xlabel(r'$J$', fontsize=14, usetex=True)\n",
    "\n",
    "plt.tight_layout()\n",
    "\n",
    "plt.savefig(SAVEPATH + name + \"_pd.pdf\")\n",
    "plt.show()"
   ]
  },
  {
   "cell_type": "markdown",
   "metadata": {},
   "source": [
    "# Time trace analysis\n",
    "This one takes the phases of all oscillators, and, knowing the structure of the network, gets the synchronization dynamics of all hierarchical layers"
   ]
  },
  {
   "cell_type": "code",
   "execution_count": 36,
   "metadata": {},
   "outputs": [],
   "source": [
    "def kuramoto(phases):\n",
    "    return np.mean(np.exp(1.0j * phases), axis=1)\n",
    "\n",
    "def time_trace_analysis(filename, n_com, layer, dt=0.01, max_plots=30, savefig=None):\n",
    "    \"\"\"\n",
    "    n_com: array that says how much communities are inside a given one\n",
    "    layer: which hierarchical layer we want to get. Starts at 1\n",
    "    dt: to set the correct temporal scale of the X axis, timestep used in simulation\n",
    "    max_plots: maximum number of lines to show at once\n",
    "    \"\"\"\n",
    "    \n",
    "    n_levels = np.size(n_com)\n",
    "\n",
    "    if layer!=\"all\" and (layer < 0 or layer > n_levels):\n",
    "        print(\"Layer has to be between 1 and the number of layers, or to be 'all'\")\n",
    "        return\n",
    "        \n",
    "    #Load data and get its size\n",
    "    phases = np.loadtxt(filename)\n",
    "    \n",
    "    n = np.size(phases[0,:])\n",
    "    tsteps = np.size(phases[:,0])\n",
    "    \n",
    "    #Generate X axis\n",
    "    t = np.linspace(0, tsteps * dt, tsteps)\n",
    "    \n",
    "    if layer==\"all\":\n",
    "        for layer in range(1,n_levels+1):\n",
    "            #Number of neurons in each group\n",
    "            n_layer = np.prod(n_com[:layer])\n",
    "            n_groups = n // n_layer\n",
    "\n",
    "            #Colors\n",
    "            n_plots = min(max_plots, n_groups)\n",
    "            cmap = cmaps.get_cmap('cividis')    \n",
    "\n",
    "            plt.figure()\n",
    "            for j in range(n_plots):\n",
    "                z = kuramoto(phases[:,j*n_layer:(j+1)*n_layer])\n",
    "                plt.plot(t, np.abs(z), color = cmap(j/n_plots))\n",
    "            plt.xlabel(\"$t$\")\n",
    "            plt.ylabel(\"$R$\")\n",
    "            plt.tight_layout()\n",
    "            if savefig != None:\n",
    "                plt.savefig(SAVEPATH+\"timetrace/{name}_layer{l}.pdf\".format(name=savefig, l=layer), bbox_inches=\"tight\")\n",
    "            plt.close()\n",
    "    else:\n",
    "        #Number of neurons in each group\n",
    "        n_layer = np.prod(n_com[:layer])\n",
    "        n_groups = n // n_layer\n",
    "\n",
    "        #Colors\n",
    "        n_plots = min(max_plots, n_groups)\n",
    "        \n",
    "        cmap = cmaps.get_cmap('seismic')    \n",
    "\n",
    "        plt.figure()\n",
    "        for j in range(n_plots):\n",
    "            z = kuramoto(phases[:,j*n_layer:(j+1)*n_layer])\n",
    "            plt.plot(t, np.abs(z), color = cmap(j/n_plots))\n",
    "            print(cmap(j/n_plots))\n",
    "        plt.xlabel(\"$t$\")\n",
    "        plt.ylabel(\"$R$\")\n",
    "        plt.tight_layout()\n",
    "        if savefig != None:\n",
    "            plt.savefig(SAVEPATH+\"timetrace/\"+savefig, bbox_inches=\"tight\")\n",
    "        plt.close()\n",
    "    "
   ]
  },
  {
   "cell_type": "code",
   "execution_count": 20,
   "metadata": {},
   "outputs": [
    {
     "ename": "ValueError",
     "evalue": "could not convert string to float: '9759.0210103.923'",
     "output_type": "error",
     "traceback": [
      "\u001b[0;31m---------------------------------------------------------------------------\u001b[0m",
      "\u001b[0;31mValueError\u001b[0m                                Traceback (most recent call last)",
      "\u001b[0;32m<ipython-input-20-93af7fefcbf0>\u001b[0m in \u001b[0;36m<module>\u001b[0;34m\u001b[0m\n\u001b[1;32m      2\u001b[0m \u001b[0;31m#n_layer = [10,10,10]\u001b[0m\u001b[0;34m\u001b[0m\u001b[0;34m\u001b[0m\u001b[0;34m\u001b[0m\u001b[0m\n\u001b[1;32m      3\u001b[0m \u001b[0;34m\u001b[0m\u001b[0m\n\u001b[0;32m----> 4\u001b[0;31m \u001b[0mtime_trace_analysis\u001b[0m\u001b[0;34m(\u001b[0m\u001b[0;34m\"../data/timetrace/r4_trace3\"\u001b[0m\u001b[0;34m,\u001b[0m \u001b[0mn_layer\u001b[0m\u001b[0;34m,\u001b[0m \u001b[0;34m\"all\"\u001b[0m\u001b[0;34m)\u001b[0m\u001b[0;34m\u001b[0m\u001b[0;34m\u001b[0m\u001b[0m\n\u001b[0m",
      "\u001b[0;32m<ipython-input-2-ac49489a7490>\u001b[0m in \u001b[0;36mtime_trace_analysis\u001b[0;34m(filename, n_com, layer, dt, max_plots)\u001b[0m\n\u001b[1;32m     17\u001b[0m \u001b[0;34m\u001b[0m\u001b[0m\n\u001b[1;32m     18\u001b[0m     \u001b[0;31m#Load data and get its size\u001b[0m\u001b[0;34m\u001b[0m\u001b[0;34m\u001b[0m\u001b[0;34m\u001b[0m\u001b[0m\n\u001b[0;32m---> 19\u001b[0;31m     \u001b[0mphases\u001b[0m \u001b[0;34m=\u001b[0m \u001b[0mnp\u001b[0m\u001b[0;34m.\u001b[0m\u001b[0mloadtxt\u001b[0m\u001b[0;34m(\u001b[0m\u001b[0mfilename\u001b[0m\u001b[0;34m)\u001b[0m\u001b[0;34m\u001b[0m\u001b[0;34m\u001b[0m\u001b[0m\n\u001b[0m\u001b[1;32m     20\u001b[0m \u001b[0;34m\u001b[0m\u001b[0m\n\u001b[1;32m     21\u001b[0m     \u001b[0mn\u001b[0m \u001b[0;34m=\u001b[0m \u001b[0mnp\u001b[0m\u001b[0;34m.\u001b[0m\u001b[0msize\u001b[0m\u001b[0;34m(\u001b[0m\u001b[0mphases\u001b[0m\u001b[0;34m[\u001b[0m\u001b[0;36m0\u001b[0m\u001b[0;34m,\u001b[0m\u001b[0;34m:\u001b[0m\u001b[0;34m]\u001b[0m\u001b[0;34m)\u001b[0m\u001b[0;34m\u001b[0m\u001b[0;34m\u001b[0m\u001b[0m\n",
      "\u001b[0;32m~/anaconda3/lib/python3.8/site-packages/numpy/lib/npyio.py\u001b[0m in \u001b[0;36mloadtxt\u001b[0;34m(fname, dtype, comments, delimiter, converters, skiprows, usecols, unpack, ndmin, encoding, max_rows)\u001b[0m\n\u001b[1;32m   1137\u001b[0m         \u001b[0;31m# converting the data\u001b[0m\u001b[0;34m\u001b[0m\u001b[0;34m\u001b[0m\u001b[0;34m\u001b[0m\u001b[0m\n\u001b[1;32m   1138\u001b[0m         \u001b[0mX\u001b[0m \u001b[0;34m=\u001b[0m \u001b[0;32mNone\u001b[0m\u001b[0;34m\u001b[0m\u001b[0;34m\u001b[0m\u001b[0m\n\u001b[0;32m-> 1139\u001b[0;31m         \u001b[0;32mfor\u001b[0m \u001b[0mx\u001b[0m \u001b[0;32min\u001b[0m \u001b[0mread_data\u001b[0m\u001b[0;34m(\u001b[0m\u001b[0m_loadtxt_chunksize\u001b[0m\u001b[0;34m)\u001b[0m\u001b[0;34m:\u001b[0m\u001b[0;34m\u001b[0m\u001b[0;34m\u001b[0m\u001b[0m\n\u001b[0m\u001b[1;32m   1140\u001b[0m             \u001b[0;32mif\u001b[0m \u001b[0mX\u001b[0m \u001b[0;32mis\u001b[0m \u001b[0;32mNone\u001b[0m\u001b[0;34m:\u001b[0m\u001b[0;34m\u001b[0m\u001b[0;34m\u001b[0m\u001b[0m\n\u001b[1;32m   1141\u001b[0m                 \u001b[0mX\u001b[0m \u001b[0;34m=\u001b[0m \u001b[0mnp\u001b[0m\u001b[0;34m.\u001b[0m\u001b[0marray\u001b[0m\u001b[0;34m(\u001b[0m\u001b[0mx\u001b[0m\u001b[0;34m,\u001b[0m \u001b[0mdtype\u001b[0m\u001b[0;34m)\u001b[0m\u001b[0;34m\u001b[0m\u001b[0;34m\u001b[0m\u001b[0m\n",
      "\u001b[0;32m~/anaconda3/lib/python3.8/site-packages/numpy/lib/npyio.py\u001b[0m in \u001b[0;36mread_data\u001b[0;34m(chunk_size)\u001b[0m\n\u001b[1;32m   1065\u001b[0m \u001b[0;34m\u001b[0m\u001b[0m\n\u001b[1;32m   1066\u001b[0m             \u001b[0;31m# Convert each value according to its column and store\u001b[0m\u001b[0;34m\u001b[0m\u001b[0;34m\u001b[0m\u001b[0;34m\u001b[0m\u001b[0m\n\u001b[0;32m-> 1067\u001b[0;31m             \u001b[0mitems\u001b[0m \u001b[0;34m=\u001b[0m \u001b[0;34m[\u001b[0m\u001b[0mconv\u001b[0m\u001b[0;34m(\u001b[0m\u001b[0mval\u001b[0m\u001b[0;34m)\u001b[0m \u001b[0;32mfor\u001b[0m \u001b[0;34m(\u001b[0m\u001b[0mconv\u001b[0m\u001b[0;34m,\u001b[0m \u001b[0mval\u001b[0m\u001b[0;34m)\u001b[0m \u001b[0;32min\u001b[0m \u001b[0mzip\u001b[0m\u001b[0;34m(\u001b[0m\u001b[0mconverters\u001b[0m\u001b[0;34m,\u001b[0m \u001b[0mvals\u001b[0m\u001b[0;34m)\u001b[0m\u001b[0;34m]\u001b[0m\u001b[0;34m\u001b[0m\u001b[0;34m\u001b[0m\u001b[0m\n\u001b[0m\u001b[1;32m   1068\u001b[0m \u001b[0;34m\u001b[0m\u001b[0m\n\u001b[1;32m   1069\u001b[0m             \u001b[0;31m# Then pack it according to the dtype's nesting\u001b[0m\u001b[0;34m\u001b[0m\u001b[0;34m\u001b[0m\u001b[0;34m\u001b[0m\u001b[0m\n",
      "\u001b[0;32m~/anaconda3/lib/python3.8/site-packages/numpy/lib/npyio.py\u001b[0m in \u001b[0;36m<listcomp>\u001b[0;34m(.0)\u001b[0m\n\u001b[1;32m   1065\u001b[0m \u001b[0;34m\u001b[0m\u001b[0m\n\u001b[1;32m   1066\u001b[0m             \u001b[0;31m# Convert each value according to its column and store\u001b[0m\u001b[0;34m\u001b[0m\u001b[0;34m\u001b[0m\u001b[0;34m\u001b[0m\u001b[0m\n\u001b[0;32m-> 1067\u001b[0;31m             \u001b[0mitems\u001b[0m \u001b[0;34m=\u001b[0m \u001b[0;34m[\u001b[0m\u001b[0mconv\u001b[0m\u001b[0;34m(\u001b[0m\u001b[0mval\u001b[0m\u001b[0;34m)\u001b[0m \u001b[0;32mfor\u001b[0m \u001b[0;34m(\u001b[0m\u001b[0mconv\u001b[0m\u001b[0;34m,\u001b[0m \u001b[0mval\u001b[0m\u001b[0;34m)\u001b[0m \u001b[0;32min\u001b[0m \u001b[0mzip\u001b[0m\u001b[0;34m(\u001b[0m\u001b[0mconverters\u001b[0m\u001b[0;34m,\u001b[0m \u001b[0mvals\u001b[0m\u001b[0;34m)\u001b[0m\u001b[0;34m]\u001b[0m\u001b[0;34m\u001b[0m\u001b[0;34m\u001b[0m\u001b[0m\n\u001b[0m\u001b[1;32m   1068\u001b[0m \u001b[0;34m\u001b[0m\u001b[0m\n\u001b[1;32m   1069\u001b[0m             \u001b[0;31m# Then pack it according to the dtype's nesting\u001b[0m\u001b[0;34m\u001b[0m\u001b[0;34m\u001b[0m\u001b[0;34m\u001b[0m\u001b[0m\n",
      "\u001b[0;32m~/anaconda3/lib/python3.8/site-packages/numpy/lib/npyio.py\u001b[0m in \u001b[0;36mfloatconv\u001b[0;34m(x)\u001b[0m\n\u001b[1;32m    761\u001b[0m         \u001b[0;32mif\u001b[0m \u001b[0;34m'0x'\u001b[0m \u001b[0;32min\u001b[0m \u001b[0mx\u001b[0m\u001b[0;34m:\u001b[0m\u001b[0;34m\u001b[0m\u001b[0;34m\u001b[0m\u001b[0m\n\u001b[1;32m    762\u001b[0m             \u001b[0;32mreturn\u001b[0m \u001b[0mfloat\u001b[0m\u001b[0;34m.\u001b[0m\u001b[0mfromhex\u001b[0m\u001b[0;34m(\u001b[0m\u001b[0mx\u001b[0m\u001b[0;34m)\u001b[0m\u001b[0;34m\u001b[0m\u001b[0;34m\u001b[0m\u001b[0m\n\u001b[0;32m--> 763\u001b[0;31m         \u001b[0;32mreturn\u001b[0m \u001b[0mfloat\u001b[0m\u001b[0;34m(\u001b[0m\u001b[0mx\u001b[0m\u001b[0;34m)\u001b[0m\u001b[0;34m\u001b[0m\u001b[0;34m\u001b[0m\u001b[0m\n\u001b[0m\u001b[1;32m    764\u001b[0m \u001b[0;34m\u001b[0m\u001b[0m\n\u001b[1;32m    765\u001b[0m     \u001b[0mtyp\u001b[0m \u001b[0;34m=\u001b[0m \u001b[0mdtype\u001b[0m\u001b[0;34m.\u001b[0m\u001b[0mtype\u001b[0m\u001b[0;34m\u001b[0m\u001b[0;34m\u001b[0m\u001b[0m\n",
      "\u001b[0;31mValueError\u001b[0m: could not convert string to float: '9759.0210103.923'"
     ]
    }
   ],
   "source": [
    "n_layer = [100,5,3,2]\n",
    "#n_layer = [10,10,10]\n",
    "\n",
    "time_trace_analysis(\"../data/timetrace/r4_trace3\", n_layer, \"all\")"
   ]
  },
  {
   "cell_type": "code",
   "execution_count": 37,
   "metadata": {},
   "outputs": [
    {
     "name": "stdout",
     "output_type": "stream",
     "text": [
      "erdos-renyi\n",
      "r4\n",
      "c4\n",
      "rb7\n",
      "cb7\n"
     ]
    }
   ],
   "source": [
    "network_structure = {\"erdos-renyi\":[10,10,10], \"r4\": [100,5,3,2], \"c4\": [100,5,3,2], \"rb7\": [30,2,2,2,2,2,2,2], \"cb7\":[30,2,2,2,2,2,2,2]}\n",
    "\n",
    "a_list = [0.0, 0.0, 0.0, 0.5, 0.5, 0.5, 0.9, 1.1, 1.07, 0.9, 1.1, 1.0]\n",
    "s_list = [0.8, 1.0, 1.2, 0.8, 0.9, 1.0, 0.5, 0.5, 0.5, 0.1, 0.1, 0.1]\n",
    "name_list = [\"hopf_sub\", \"hopf_crit\", \"hopf_super\", \"hopf_exc_sub\", \"hopf_exc_crit\", \"hopf_exc_super\", \"hyb_sub\", \"hyb_crit\", \"hyb_super\", \"snic_sub\", \"snic_crit\", \"snic_super\"]\n",
    "\n",
    "for network in network_structure:\n",
    "    print(network)\n",
    "    n_layer = network_structure[network]\n",
    "    for a,s,name in zip(a_list, s_list, name_list):\n",
    "        time_trace_analysis(\"../data/timetrace/\" + network + name + \"_trace0\", n_layer, \"all\", savefig=network + name)"
   ]
  },
  {
   "cell_type": "markdown",
   "metadata": {},
   "source": [
    "## Correlations and Functional connectivity\n",
    "\n",
    "Implementation of functional connectivity measures, trying to get functional connectivity matrices"
   ]
  },
  {
   "cell_type": "code",
   "execution_count": null,
   "metadata": {},
   "outputs": [],
   "source": [
    "def time_trace_analysis(filename, n_com, layer, dt=0.01, max_plots=30):\n",
    "    \"\"\"\n",
    "    n_com: array that says how much communities are inside a given one\n",
    "    layer: which hierarchical layer we want to get. Starts at 1\n",
    "    dt: to set the correct temporal scale of the X axis, timestep used in simulation\n",
    "    max_plots: maximum number of lines to show at once\n",
    "    \"\"\"\n",
    "    \n",
    "    n_levels = np.size(n_com)\n",
    "\n",
    "    if layer!=\"all\" and (layer < 0 or layer > n_levels):\n",
    "        print(\"Layer has to be between 1 and the number of layers, or to be 'all'\")\n",
    "        return\n",
    "        \n",
    "    #Load data and get its size\n",
    "    phases = np.loadtxt(filename)\n",
    "    \n",
    "    n = np.size(phases[0,:])\n",
    "    tsteps = np.size(phases[:,0])\n",
    "    \n",
    "    #Generate X axis\n",
    "    t = np.linspace(0, tsteps * dt, tsteps)\n",
    "    \n",
    "    if layer==\"all\":\n",
    "        for layer in range(1,n_levels+1):\n",
    "            print(layer)\n",
    "            #Number of neurons in each group\n",
    "            n_layer = np.prod(n_com[:layer])\n",
    "            n_groups = n // n_layer\n",
    "\n",
    "            #Colors\n",
    "            n_plots = min(max_plots, n_groups)\n",
    "            cmap = cmaps.get_cmap('cividis')    \n",
    "\n",
    "            plt.figure()\n",
    "            for j in range(n_plots):\n",
    "                z = kuramoto(phases[:,j*n_layer:(j+1)*n_layer])\n",
    "                plt.plot(t, np.abs(z), color = cmap(j/n_plots))\n",
    "            plt.show()\n",
    "    else:\n",
    "        #Number of neurons in each group\n",
    "        n_layer = np.prod(n_com[:layer])\n",
    "        n_groups = n // n_layer\n",
    "\n",
    "        #Colors\n",
    "        n_plots = min(max_plots, n_groups)\n",
    "        \n",
    "        cmap = cmaps.get_cmap('seismic')    \n",
    "\n",
    "        plt.figure()\n",
    "        for j in range(n_plots):\n",
    "            z = kuramoto(phases[:,j*n_layer:(j+1)*n_layer])\n",
    "            plt.plot(t, np.abs(z), color = cmap(j/n_plots))\n",
    "            print(cmap(j/n_plots))\n",
    "        plt.show()"
   ]
  }
 ],
 "metadata": {
  "kernelspec": {
   "display_name": "Python 3",
   "language": "python",
   "name": "python3"
  },
  "language_info": {
   "codemirror_mode": {
    "name": "ipython",
    "version": 3
   },
   "file_extension": ".py",
   "mimetype": "text/x-python",
   "name": "python",
   "nbconvert_exporter": "python",
   "pygments_lexer": "ipython3",
   "version": "3.8.5"
  }
 },
 "nbformat": 4,
 "nbformat_minor": 4
}
